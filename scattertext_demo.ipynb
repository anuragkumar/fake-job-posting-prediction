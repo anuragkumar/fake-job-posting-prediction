{
 "cells": [
  {
   "cell_type": "code",
   "execution_count": 1,
   "metadata": {},
   "outputs": [],
   "source": [
    "import pandas as pd\n",
    "from sklearn.feature_extraction.text import TfidfTransformer\n",
    "import scattertext as st\n",
    "from scipy.sparse.linalg import svds\n",
    "\n",
    "convention_df = st.SampleCorpora.ConventionData2012.get_data()\n",
    "convention_df['parse'] = convention_df['text'].apply(st.whitespace_nlp_with_sentences)\n",
    "corpus = (st.CorpusFromParsedDocuments(convention_df,\n",
    "                                       category_col='party',\n",
    "                                       parsed_col='parse')\n",
    "          .build()\n",
    "          .get_stoplisted_unigram_corpus())"
   ]
  },
  {
   "cell_type": "code",
   "execution_count": 8,
   "metadata": {},
   "outputs": [
    {
     "data": {
      "text/html": [
       "<div>\n",
       "<style scoped>\n",
       "    .dataframe tbody tr th:only-of-type {\n",
       "        vertical-align: middle;\n",
       "    }\n",
       "\n",
       "    .dataframe tbody tr th {\n",
       "        vertical-align: top;\n",
       "    }\n",
       "\n",
       "    .dataframe thead th {\n",
       "        text-align: right;\n",
       "    }\n",
       "</style>\n",
       "<table border=\"1\" class=\"dataframe\">\n",
       "  <thead>\n",
       "    <tr style=\"text-align: right;\">\n",
       "      <th></th>\n",
       "      <th>party</th>\n",
       "      <th>text</th>\n",
       "      <th>speaker</th>\n",
       "      <th>parse</th>\n",
       "    </tr>\n",
       "  </thead>\n",
       "  <tbody>\n",
       "    <tr>\n",
       "      <th>0</th>\n",
       "      <td>democrat</td>\n",
       "      <td>Thank you. Thank you. Thank you. Thank you so ...</td>\n",
       "      <td>BARACK OBAMA</td>\n",
       "      <td>(thank, you, ., thank, you, ., thank, you, ., ...</td>\n",
       "    </tr>\n",
       "    <tr>\n",
       "      <th>1</th>\n",
       "      <td>democrat</td>\n",
       "      <td>Thank you so much. Tonight, I am so thrilled a...</td>\n",
       "      <td>MICHELLE OBAMA</td>\n",
       "      <td>(thank, you, so, much, .)</td>\n",
       "    </tr>\n",
       "    <tr>\n",
       "      <th>2</th>\n",
       "      <td>democrat</td>\n",
       "      <td>Thank you. It is a singular honor to be here t...</td>\n",
       "      <td>RICHARD DURBIN</td>\n",
       "      <td>(thank, you, ., it, is, a, singular, honor, to...</td>\n",
       "    </tr>\n",
       "    <tr>\n",
       "      <th>3</th>\n",
       "      <td>democrat</td>\n",
       "      <td>Hey, Delaware. \\nAnd my favorite Democrat, Jil...</td>\n",
       "      <td>JOSEPH BIDEN</td>\n",
       "      <td>(hey, ,, delaware, ., and, my, favorite, democ...</td>\n",
       "    </tr>\n",
       "    <tr>\n",
       "      <th>4</th>\n",
       "      <td>democrat</td>\n",
       "      <td>Hello. \\nThank you, Angie. I'm so proud of how...</td>\n",
       "      <td>JILL BIDEN</td>\n",
       "      <td>(hello, ., thank, you, ,, angie, ., i, ', m, s...</td>\n",
       "    </tr>\n",
       "    <tr>\n",
       "      <th>...</th>\n",
       "      <td>...</td>\n",
       "      <td>...</td>\n",
       "      <td>...</td>\n",
       "      <td>...</td>\n",
       "    </tr>\n",
       "    <tr>\n",
       "      <th>184</th>\n",
       "      <td>republican</td>\n",
       "      <td>As the elected leader of 250,000 College Repub...</td>\n",
       "      <td>ALEX SCHRIVER</td>\n",
       "      <td>(as, the, elected, leader, of, 250, ,, 000, co...</td>\n",
       "    </tr>\n",
       "    <tr>\n",
       "      <th>185</th>\n",
       "      <td>republican</td>\n",
       "      <td>Good afternoon. I'm Pete Sessions, a congressm...</td>\n",
       "      <td>PETE SESSIONS</td>\n",
       "      <td>(good, afternoon, ., i, ', m, pete, sessions, ...</td>\n",
       "    </tr>\n",
       "    <tr>\n",
       "      <th>186</th>\n",
       "      <td>republican</td>\n",
       "      <td>To Chairman Priebus and to my fellow Americans...</td>\n",
       "      <td>BOB BUCKHORN</td>\n",
       "      <td>(to, chairman, priebus, and, to, my, fellow, a...</td>\n",
       "    </tr>\n",
       "    <tr>\n",
       "      <th>187</th>\n",
       "      <td>republican</td>\n",
       "      <td>\\nAbsolutely. Thank you, Mr.Chairman.\\nWelcome...</td>\n",
       "      <td>SHARON DAY</td>\n",
       "      <td>(absolutely, ., thank, you, ,, mr, ., chairman...</td>\n",
       "    </tr>\n",
       "    <tr>\n",
       "      <th>188</th>\n",
       "      <td>republican</td>\n",
       "      <td>I am thrilled to add Utah's voice in support f...</td>\n",
       "      <td>MIA LOVE</td>\n",
       "      <td>(i, am, thrilled, to, add, utah, ', s, voice, ...</td>\n",
       "    </tr>\n",
       "  </tbody>\n",
       "</table>\n",
       "<p>189 rows × 4 columns</p>\n",
       "</div>"
      ],
      "text/plain": [
       "          party                                               text  \\\n",
       "0      democrat  Thank you. Thank you. Thank you. Thank you so ...   \n",
       "1      democrat  Thank you so much. Tonight, I am so thrilled a...   \n",
       "2      democrat  Thank you. It is a singular honor to be here t...   \n",
       "3      democrat  Hey, Delaware. \\nAnd my favorite Democrat, Jil...   \n",
       "4      democrat  Hello. \\nThank you, Angie. I'm so proud of how...   \n",
       "..          ...                                                ...   \n",
       "184  republican  As the elected leader of 250,000 College Repub...   \n",
       "185  republican  Good afternoon. I'm Pete Sessions, a congressm...   \n",
       "186  republican  To Chairman Priebus and to my fellow Americans...   \n",
       "187  republican  \\nAbsolutely. Thank you, Mr.Chairman.\\nWelcome...   \n",
       "188  republican  I am thrilled to add Utah's voice in support f...   \n",
       "\n",
       "            speaker                                              parse  \n",
       "0      BARACK OBAMA  (thank, you, ., thank, you, ., thank, you, ., ...  \n",
       "1    MICHELLE OBAMA                          (thank, you, so, much, .)  \n",
       "2    RICHARD DURBIN  (thank, you, ., it, is, a, singular, honor, to...  \n",
       "3      JOSEPH BIDEN  (hey, ,, delaware, ., and, my, favorite, democ...  \n",
       "4        JILL BIDEN  (hello, ., thank, you, ,, angie, ., i, ', m, s...  \n",
       "..              ...                                                ...  \n",
       "184   ALEX SCHRIVER  (as, the, elected, leader, of, 250, ,, 000, co...  \n",
       "185   PETE SESSIONS  (good, afternoon, ., i, ', m, pete, sessions, ...  \n",
       "186    BOB BUCKHORN  (to, chairman, priebus, and, to, my, fellow, a...  \n",
       "187      SHARON DAY  (absolutely, ., thank, you, ,, mr, ., chairman...  \n",
       "188        MIA LOVE  (i, am, thrilled, to, add, utah, ', s, voice, ...  \n",
       "\n",
       "[189 rows x 4 columns]"
      ]
     },
     "execution_count": 8,
     "metadata": {},
     "output_type": "execute_result"
    }
   ],
   "source": [
    "convention_df"
   ]
  },
  {
   "cell_type": "code",
   "execution_count": 2,
   "metadata": {},
   "outputs": [],
   "source": [
    "corpus = corpus.add_doc_names_as_metadata(corpus.get_df()['speaker'])\n"
   ]
  },
  {
   "cell_type": "code",
   "execution_count": 3,
   "metadata": {},
   "outputs": [],
   "source": [
    "embeddings = TfidfTransformer().fit_transform(corpus.get_term_doc_mat())\n",
    "u, s, vt = svds(embeddings, k=3, maxiter=20000, which='LM')\n",
    "projection = pd.DataFrame({'term': corpus.get_metadata(), 'x': u.T[0], 'y': u.T[1]}).set_index('term')"
   ]
  },
  {
   "cell_type": "code",
   "execution_count": 4,
   "metadata": {},
   "outputs": [],
   "source": [
    "category = 'democrat'\n",
    "scores = (corpus.get_category_ids() == corpus.get_categories().index(category)).astype(int)\n",
    "html = st.produce_pca_explorer(corpus,\n",
    "                               category=category,\n",
    "                               category_name='Democratic',\n",
    "                               not_category_name='Republican',\n",
    "                               metadata=convention_df['speaker'],\n",
    "                               width_in_pixels=1000,\n",
    "                               show_axes=False,\n",
    "                               use_non_text_features=True,\n",
    "                               use_full_doc=True,\n",
    "                               projection=projection,\n",
    "                               scores=scores,\n",
    "                               show_top_terms=False)"
   ]
  },
  {
   "cell_type": "code",
   "execution_count": null,
   "metadata": {},
   "outputs": [],
   "source": [
    "freq = term_freq_df.pos_freq_pct_normcdf.values\n",
    "prec = term_freq_df.pos_precision_normcdf.values\n",
    "html = st.produce_scattertext_explorer(\n",
    "    corpus.remove_terms(set(corpus.get_terms()) - set(term_freq_df.index)),\n",
    "    category='Positive',\n",
    "    not_category_name='Negative',\n",
    "    not_categories=['Negative'],\n",
    "    \n",
    "    x_label = 'Portion of words used in positive reviews (norm-cdf)',\n",
    "    original_x = freq,\n",
    "    x_coords = (freq - freq.min())/freq.max(),\n",
    "    x_axis_values = [int(freq.min()*1000)/1000., \n",
    "                     int(freq.max() * 1000)/1000.],\n",
    "    \n",
    "    y_label = 'documents containing word that are positive (norm-cdf)',    \n",
    "    original_y = prec,\n",
    "    y_coords = (prec - prec.min())/prec.max(),\n",
    "    y_axis_values = [int(prec.min() * 1000)/1000., \n",
    "                     int((prec.max()/2.)*1000)/1000., \n",
    "                     int(prec.max() * 1000)/1000.],\n",
    "    scores = term_freq_df.pos_scaled_f_score.values,\n",
    "    \n",
    "    sort_by_dist=False,\n",
    "    show_characteristic=False\n",
    ")"
   ]
  },
  {
   "cell_type": "code",
   "execution_count": null,
   "metadata": {},
   "outputs": [],
   "source": []
  },
  {
   "cell_type": "code",
   "execution_count": null,
   "metadata": {},
   "outputs": [],
   "source": []
  },
  {
   "cell_type": "code",
   "execution_count": 6,
   "metadata": {},
   "outputs": [
    {
     "data": {
      "text/plain": [
       "1162067"
      ]
     },
     "execution_count": 6,
     "metadata": {},
     "output_type": "execute_result"
    }
   ],
   "source": [
    "open('./demo.html', 'w').write(html)\n"
   ]
  },
  {
   "cell_type": "code",
   "execution_count": null,
   "metadata": {},
   "outputs": [],
   "source": []
  },
  {
   "cell_type": "code",
   "execution_count": null,
   "metadata": {},
   "outputs": [],
   "source": []
  },
  {
   "cell_type": "code",
   "execution_count": 9,
   "metadata": {},
   "outputs": [
    {
     "data": {
      "text/plain": [
       "1628059"
      ]
     },
     "execution_count": 9,
     "metadata": {},
     "output_type": "execute_result"
    }
   ],
   "source": [
    "import scattertext as st\n",
    "\n",
    "df = st.SampleCorpora.ConventionData2012.get_data().assign(\n",
    "    parse=lambda df: df.text.apply(st.whitespace_nlp_with_sentences)\n",
    ")\n",
    "\n",
    "corpus = st.CorpusFromParsedDocuments(\n",
    "    df, category_col='party', parsed_col='parse'\n",
    ").build().get_unigram_corpus().compact(st.AssociationCompactor(2000))\n",
    "\n",
    "html = st.produce_scattertext_explorer(\n",
    "    corpus,\n",
    "    category='democrat', category_name='Democratic', not_category_name='Republican',\n",
    "    minimum_term_frequency=0, pmi_threshold_coefficient=0,\n",
    "    width_in_pixels=1000, metadata=corpus.get_df()['speaker'],\n",
    "    transform=st.Scalers.dense_rank\n",
    ")\n",
    "open('./demo_compact.html', 'w').write(html)"
   ]
  }
 ],
 "metadata": {
  "kernelspec": {
   "display_name": "Python 3",
   "language": "python",
   "name": "python3"
  },
  "language_info": {
   "codemirror_mode": {
    "name": "ipython",
    "version": 3
   },
   "file_extension": ".py",
   "mimetype": "text/x-python",
   "name": "python",
   "nbconvert_exporter": "python",
   "pygments_lexer": "ipython3",
   "version": "3.8.3"
  }
 },
 "nbformat": 4,
 "nbformat_minor": 4
}
